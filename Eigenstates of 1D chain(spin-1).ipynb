{
 "cells": [
  {
   "cell_type": "code",
   "execution_count": 1,
   "metadata": {},
   "outputs": [],
   "source": [
    "import numpy as np\n",
    "import sympy as sy\n",
    "import scipy as sc\n",
    "import matplotlib.pyplot as plt"
   ]
  },
  {
   "cell_type": "markdown",
   "metadata": {},
   "source": [
    "# Construct Hamiltonian of 1D Chain\n",
    "\n",
    "$$ H=-\\sum_{i}(S_{i}^{z})^{2} -\\lambda\\sum_{<i,j>} \\vec{S}_{i} \\cdot \\vec{S}_{j}$$\n",
    "Note that it is not the real Hamiltonian but only with a coefficient difference. "
   ]
  },
  {
   "cell_type": "markdown",
   "metadata": {},
   "source": [
    "Simply, for the two-spins case, \n",
    "$$ H=-(S_{1}^{z})^{2}-(S_{2}^{z})^{2} +\\lambda \\vec{S}_{1} \\cdot \\vec{S}_{2}$$\n",
    "or\n",
    "$$ H=-(S_{1}^{z})^{2}-(S_{2}^{z})^{2} +\\lambda(S_{1}^{z}S_{2}^{z}+S_{1}^{x}S_{2}^{x}+S_{1}^{y}S_{2}^{y})$$"
   ]
  },
  {
   "cell_type": "markdown",
   "metadata": {},
   "source": [
    "### Spin operators"
   ]
  },
  {
   "cell_type": "code",
   "execution_count": 17,
   "metadata": {},
   "outputs": [
    {
     "data": {
      "text/plain": [
       "array([[0.+0.j        , 0.-0.70710678j, 0.+0.j        ],\n",
       "       [0.+0.70710678j, 0.+0.j        , 0.-0.70710678j],\n",
       "       [0.+0.j        , 0.+0.70710678j, 0.+0.j        ]])"
      ]
     },
     "execution_count": 17,
     "metadata": {},
     "output_type": "execute_result"
    }
   ],
   "source": [
    "def de(a, b):\n",
    "    if a == b:\n",
    "        return 1\n",
    "    else:\n",
    "        return 0\n",
    "    \n",
    "def Spin_x(s):\n",
    "    '''\n",
    "    This function returns the spin-x operator corresponding to spin number s (natural units, hbar=1)\n",
    "    '''\n",
    "    d = 2*s+1\n",
    "    Sx = np.zeros([d, d])\n",
    "    \n",
    "    def sx_element(i, j):\n",
    "        return 1/2 * (de(i, j+1)+de(i+1, j)) * np.sqrt((s+1)*(i+1+j+1-1)-(i+1)*(j+1))\n",
    "    \n",
    "    for i in range(0, d):\n",
    "        for j in range(0, d):\n",
    "            Sx[i, j] += sx_element(i, j)\n",
    "    \n",
    "    return Sx\n",
    "    \n",
    "def Spin_y(s):\n",
    "    '''\n",
    "    This function returns the spin-y operator corresponding to spin number s (natural units, hbar=1)\n",
    "    '''\n",
    "    d = 2*s+1\n",
    "    Sy = np.zeros([d, d], dtype='complex')\n",
    "    \n",
    "    def sy_element(i, j):\n",
    "        return 1j/2 * (de(i, j+1)-de(i+1, j)) * np.sqrt((s+1)*(i+1+j+1-1)-(i+1)*(j+1))\n",
    "    \n",
    "    for i in range(0, d):\n",
    "        for j in range(0, d):\n",
    "            Sy[i, j] += sy_element(i, j)\n",
    "    \n",
    "    return Sy\n",
    "\n",
    "def Spin_z(s):\n",
    "    '''\n",
    "    This function returns the spin-z operator corresponding to spin number s (natural units, hbar=1)\n",
    "    '''\n",
    "    \n",
    "    d = 2*s+1\n",
    "    Sz = np.zeros([d, d])\n",
    "    \n",
    "    def sz_element(i, j):\n",
    "        return de(i, j) * (s+1-(j+1))\n",
    "    \n",
    "    for i in range(0, d):\n",
    "        for j in range(0, d):\n",
    "            Sz[i, j] += sz_element(i, j)\n",
    "    \n",
    "    return Sz"
   ]
  },
  {
   "cell_type": "markdown",
   "metadata": {},
   "source": [
    "### Class for 1D Chain"
   ]
  },
  {
   "cell_type": "code",
   "execution_count": 3,
   "metadata": {},
   "outputs": [],
   "source": [
    "class OneD_Chain():\n",
    "    '''This class describes the 1D chain lattice'''\n",
    "\n",
    "    def __init__(self, N, spin, lamb, periodic):\n",
    "        '''\n",
    "        N: number of sites\n",
    "        spin: spin number\n",
    "        lamb: strenth of spin coupling\n",
    "        '''\n",
    "        self.N = N\n",
    "        self.spin = spin\n",
    "        self.lamb = lamb\n",
    "        self.periodic = periodic\n",
    "        self.H = self.Hamiltonian()\n",
    "\n",
    "    \n",
    "    ############################################# Spin operator#############################################\n",
    "    \n",
    "    def de(a, b):\n",
    "    if a == b:\n",
    "        return 1\n",
    "    else:\n",
    "        return 0\n",
    "    \n",
    "    def Spin_x(s):\n",
    "        '''This function returns the spin-x operator corresponding to spin number s (natural units, hbar=1)'''\n",
    "        \n",
    "        d = 2*s+1\n",
    "        Sx = np.zeros([d, d])\n",
    "\n",
    "        def sx_element(i, j):\n",
    "            return 1/2 * (de(i, j+1)+de(i+1, j)) * np.sqrt((s+1)*(i+1+j+1-1)-(i+1)*(j+1))\n",
    "\n",
    "        for i in range(0, d):\n",
    "            for j in range(0, d):\n",
    "                Sx[i, j] += sx_element(i, j)\n",
    "\n",
    "        return Sx\n",
    "\n",
    "    def Spin_y(s):\n",
    "        '''This function returns the spin-y operator corresponding to spin number s (natural units, hbar=1)'''\n",
    "        \n",
    "        d = 2*s+1\n",
    "        Sy = np.zeros([d, d], dtype='complex')\n",
    "\n",
    "        def sy_element(i, j):\n",
    "            return 1j/2 * (de(i, j+1)-de(i+1, j)) * np.sqrt((s+1)*(i+1+j+1-1)-(i+1)*(j+1))\n",
    "\n",
    "        for i in range(0, d):\n",
    "            for j in range(0, d):\n",
    "                Sy[i, j] += sy_element(i, j)\n",
    "\n",
    "        return Sy\n",
    "    \n",
    "    def Spin_z(s):\n",
    "        '''\n",
    "        This function returns the spin-z operator corresponding to spin number s (natural units, hbar=1)\n",
    "        '''\n",
    "\n",
    "        d = 2*s+1\n",
    "        Sz = np.zeros([d, d])\n",
    "\n",
    "        def sz_element(i, j):\n",
    "            return de(i, j) * (s+1-(j+1))\n",
    "\n",
    "        for i in range(0, d):\n",
    "            for j in range(0, d):\n",
    "                Sz[i, j] += sz_element(i, j)\n",
    "\n",
    "        return Sz\n",
    "    #######################################################################################################\n",
    "    \n",
    "    \n",
    "    \n",
    "    def Hamiltonian(self):\n",
    "        '''\n",
    "        This function express the Hamiltonian of this 1D Chain lattice\n",
    "        '''\n",
    "        d = 2*self.spin + 1 # The dimension of Hamiltonian at each site\n",
    "        \n",
    "        Sx = self.Spin_x(self.spin)\n",
    "        Sy = self.Spin_y(self.spin)\n",
    "        Sz = self.Spin_y(self.spin)\n",
    "        \n",
    "        #The part of on-site Hamiltonian\n",
    "        H_on = np.zeros([d**2, d**2])\n",
    "        for i in range(1, self.N +1):\n",
    "            H_on -= np.kron( np.identity(d**(i-1)) , np.kron(Sz.dot(Sz), np.identity(d**(self.N-i))) )\n",
    "        \n",
    "        #The part of exchange effect\n",
    "        H_ex = np.zeros([d**2, d**2])\n",
    "        \n",
    "        if self.periodic == 'No':\n",
    "            for i in range(1, self.N):\n",
    "                H_ex += np.kron(np.identity(d**(i-1)), np.kron(Sz, np.identity(d**(self.N-i))) ).dot(\\\n",
    "                        np.kron( np.kron(np.identity(d**i), Sz), np.identity(d**(self.N-i-1))  )) \n",
    "                H_ex += np.kron(np.identity(d**(i-1)), np.kron(Sx, np.identity(d**(self.N-i))) ).dot(\\\n",
    "                        np.kron( np.kron(np.identity(d**i), Sx), np.identity(d**(self.N-i-1))  ))\n",
    "                H_ex += np.real(\\\n",
    "                        np.kron(np.identity(d**(i-1)), np.kron(Sy, np.identity(d**(self.N-i))) ).dot(\\\n",
    "                        np.kron( np.kron(np.identity(d**i), Sy), np.identity(d**(self.N-i-1))  )))\n",
    "        \n",
    "        return H_on + self.lamb* H_ex\n",
    "            \n",
    "    def diagonalize(self, plot):\n",
    "        '''This function gives the eigenvalues of H and the corresponding eigenvectors'''\n",
    "        P, D = np.linagle.eig(self.H)\n",
    "        \n",
    "        return P, D\n",
    "    \n",
    "    def spectrum_plot(self, lamb, dL=0.001):\n",
    "        '''It plots the eigenvalue spectrum of H in the range of lamb'''\n",
    "        \n",
    "        L = np.linspace(lamb[0], lamb[-1], num=round((lamb[-1]-lamb[0])/dL))\n",
    "        \n",
    "        P, D = np.linalg.eigh(Model.H)\n",
    "        P_save = np.sort(P)\n",
    "\n",
    "        for lamb in L[1:]:\n",
    "\n",
    "            (P, D) = np.linalg.eigh(Model.H)\n",
    "            P_save = np.vstack([P_save, np.sort(P)])\n",
    "\n",
    "        P_save = np.transpose(P_save)\n",
    "        return P_save\n",
    "    \n",
    "    def perturb(self):\n",
    "        '''\n",
    "        '''\n",
    "        return 'retulst'\n",
    "    \n",
    "    def spectrum():\n",
    "        '''\n",
    "        '''\n",
    "        \n",
    "        return 'results'"
   ]
  },
  {
   "cell_type": "markdown",
   "metadata": {},
   "source": [
    "## Three trial examples for intuition"
   ]
  },
  {
   "cell_type": "code",
   "execution_count": 4,
   "metadata": {},
   "outputs": [],
   "source": [
    "Model_0 = Chain(N=2, spin=1, lamb=0, periodic='No')\n",
    "P_0, D_0 = np.linalg.eig(Model_0.H)"
   ]
  },
  {
   "cell_type": "code",
   "execution_count": 5,
   "metadata": {},
   "outputs": [
    {
     "data": {
      "text/plain": [
       "array([-2., -1., -2., -1.,  0., -1., -2., -1., -2.])"
      ]
     },
     "execution_count": 5,
     "metadata": {},
     "output_type": "execute_result"
    }
   ],
   "source": [
    "P_0"
   ]
  },
  {
   "cell_type": "code",
   "execution_count": 6,
   "metadata": {},
   "outputs": [
    {
     "data": {
      "text/plain": [
       "array([[1., 0., 0., 0., 0., 0., 0., 0., 0.],\n",
       "       [0., 1., 0., 0., 0., 0., 0., 0., 0.],\n",
       "       [0., 0., 1., 0., 0., 0., 0., 0., 0.],\n",
       "       [0., 0., 0., 1., 0., 0., 0., 0., 0.],\n",
       "       [0., 0., 0., 0., 1., 0., 0., 0., 0.],\n",
       "       [0., 0., 0., 0., 0., 1., 0., 0., 0.],\n",
       "       [0., 0., 0., 0., 0., 0., 1., 0., 0.],\n",
       "       [0., 0., 0., 0., 0., 0., 0., 1., 0.],\n",
       "       [0., 0., 0., 0., 0., 0., 0., 0., 1.]])"
      ]
     },
     "execution_count": 6,
     "metadata": {},
     "output_type": "execute_result"
    }
   ],
   "source": [
    "np.around(D_0, decimals=3)"
   ]
  },
  {
   "cell_type": "code",
   "execution_count": 7,
   "metadata": {},
   "outputs": [],
   "source": [
    "Model_1 = Chain(N=2, spin=1, lamb=0.1, periodic='No')"
   ]
  },
  {
   "cell_type": "code",
   "execution_count": 8,
   "metadata": {},
   "outputs": [
    {
     "data": {
      "text/plain": [
       "array([[-1.9,  0. ,  0. ,  0. ,  0. ,  0. ,  0. ,  0. ,  0. ],\n",
       "       [ 0. , -1. ,  0. ,  0.1,  0. ,  0. ,  0. ,  0. ,  0. ],\n",
       "       [ 0. ,  0. , -2.1,  0. ,  0.1,  0. ,  0. ,  0. ,  0. ],\n",
       "       [ 0. ,  0.1,  0. , -1. ,  0. ,  0. ,  0. ,  0. ,  0. ],\n",
       "       [ 0. ,  0. ,  0.1,  0. ,  0. ,  0. ,  0.1,  0. ,  0. ],\n",
       "       [ 0. ,  0. ,  0. ,  0. ,  0. , -1. ,  0. ,  0.1,  0. ],\n",
       "       [ 0. ,  0. ,  0. ,  0. ,  0.1,  0. , -2.1,  0. ,  0. ],\n",
       "       [ 0. ,  0. ,  0. ,  0. ,  0. ,  0.1,  0. , -1. ,  0. ],\n",
       "       [ 0. ,  0. ,  0. ,  0. ,  0. ,  0. ,  0. ,  0. , -1.9]])"
      ]
     },
     "execution_count": 8,
     "metadata": {},
     "output_type": "execute_result"
    }
   ],
   "source": [
    "A=Model_1.H\n",
    "A"
   ]
  },
  {
   "cell_type": "code",
   "execution_count": 9,
   "metadata": {},
   "outputs": [
    {
     "data": {
      "text/plain": [
       "array([-1.9, -1. , -2.1, -1. ,  0. , -1. , -2.1, -1. , -1.9])"
      ]
     },
     "execution_count": 9,
     "metadata": {},
     "output_type": "execute_result"
    }
   ],
   "source": [
    "np.diag(A)"
   ]
  },
  {
   "cell_type": "code",
   "execution_count": 10,
   "metadata": {},
   "outputs": [],
   "source": [
    "P, D = np.linalg.eig(A)"
   ]
  },
  {
   "cell_type": "code",
   "execution_count": 11,
   "metadata": {},
   "outputs": [
    {
     "data": {
      "text/plain": [
       "array([-0.9       , -1.1       ,  0.00948101, -2.1       , -2.10948101,\n",
       "       -0.9       , -1.1       , -1.9       , -1.9       ])"
      ]
     },
     "execution_count": 11,
     "metadata": {},
     "output_type": "execute_result"
    }
   ],
   "source": [
    "P"
   ]
  },
  {
   "cell_type": "code",
   "execution_count": 12,
   "metadata": {},
   "outputs": [
    {
     "data": {
      "text/plain": [
       "array([[ 0.   ,  0.   ,  0.   ,  0.   ,  0.   ,  0.   ,  0.   ,  1.   ,\n",
       "         0.   ],\n",
       "       [ 0.   ,  0.   ,  0.   ,  0.   ,  0.   , -0.707,  0.707,  0.   ,\n",
       "         0.   ],\n",
       "       [ 0.   ,  0.   , -0.047, -0.707,  0.706,  0.   ,  0.   ,  0.   ,\n",
       "         0.   ],\n",
       "       [ 0.   ,  0.   ,  0.   ,  0.   ,  0.   , -0.707, -0.707,  0.   ,\n",
       "         0.   ],\n",
       "       [ 0.   ,  0.   , -0.998, -0.   , -0.067,  0.   ,  0.   ,  0.   ,\n",
       "         0.   ],\n",
       "       [ 0.707, -0.707,  0.   ,  0.   ,  0.   ,  0.   ,  0.   ,  0.   ,\n",
       "         0.   ],\n",
       "       [ 0.   ,  0.   , -0.047,  0.707,  0.706,  0.   ,  0.   ,  0.   ,\n",
       "         0.   ],\n",
       "       [ 0.707,  0.707,  0.   ,  0.   ,  0.   ,  0.   ,  0.   ,  0.   ,\n",
       "         0.   ],\n",
       "       [ 0.   ,  0.   ,  0.   ,  0.   ,  0.   ,  0.   ,  0.   ,  0.   ,\n",
       "         1.   ]])"
      ]
     },
     "execution_count": 12,
     "metadata": {},
     "output_type": "execute_result"
    }
   ],
   "source": [
    "np.around(D, decimals=3)"
   ]
  },
  {
   "cell_type": "code",
   "execution_count": 13,
   "metadata": {},
   "outputs": [],
   "source": [
    "Model_2 = Chain(N=2, spin=1, lamb=0.09, periodic='No')"
   ]
  },
  {
   "cell_type": "code",
   "execution_count": 14,
   "metadata": {},
   "outputs": [],
   "source": [
    "B = Model_2.H\n",
    "P2,D2=np.linalg.eig(B)"
   ]
  },
  {
   "cell_type": "code",
   "execution_count": 15,
   "metadata": {},
   "outputs": [
    {
     "data": {
      "text/plain": [
       "array([-1.09      , -0.91      , -0.91      , -1.09      ,  0.00772266,\n",
       "       -2.09772266, -2.09      , -1.91      , -1.91      ])"
      ]
     },
     "execution_count": 15,
     "metadata": {},
     "output_type": "execute_result"
    }
   ],
   "source": [
    "P2"
   ]
  },
  {
   "cell_type": "code",
   "execution_count": 16,
   "metadata": {},
   "outputs": [
    {
     "data": {
      "text/plain": [
       "array([[ 0.   ,  0.   ,  0.   ,  0.   ,  0.   ,  0.   ,  0.   ,  1.   ,\n",
       "         0.   ],\n",
       "       [ 0.   , -0.641, -0.63 , -0.681,  0.   ,  0.   ,  0.   ,  0.   ,\n",
       "         0.   ],\n",
       "       [ 0.   ,  0.   ,  0.   ,  0.   ,  0.043,  0.706, -0.707,  0.   ,\n",
       "         0.   ],\n",
       "       [-0.   , -0.641, -0.63 ,  0.681,  0.   ,  0.   ,  0.   ,  0.   ,\n",
       "         0.   ],\n",
       "       [ 0.   ,  0.   ,  0.   ,  0.   ,  0.998, -0.061,  0.   ,  0.   ,\n",
       "         0.   ],\n",
       "       [ 0.707, -0.3  ,  0.32 ,  0.191,  0.   ,  0.   ,  0.   ,  0.   ,\n",
       "         0.   ],\n",
       "       [ 0.   ,  0.   ,  0.   ,  0.   ,  0.043,  0.706,  0.707,  0.   ,\n",
       "         0.   ],\n",
       "       [-0.707, -0.3  ,  0.32 , -0.191,  0.   ,  0.   ,  0.   ,  0.   ,\n",
       "         0.   ],\n",
       "       [ 0.   ,  0.   ,  0.   ,  0.   ,  0.   ,  0.   ,  0.   ,  0.   ,\n",
       "         1.   ]])"
      ]
     },
     "execution_count": 16,
     "metadata": {},
     "output_type": "execute_result"
    }
   ],
   "source": [
    "np.around(D2, decimals=3)"
   ]
  },
  {
   "cell_type": "markdown",
   "metadata": {},
   "source": [
    "\\\n",
    "It is not so nice that the NumPy outputs these eigenvalues in a non-sorted sequence, and it looks like they need to be sorted first.\n",
    "\\\n",
    "By the way, interestingly, I made a mistake when I write minus before coupling term, the eigenstates makes no difference compared to the plus case.\n",
    "## The variation of eigenvalues"
   ]
  },
  {
   "cell_type": "code",
   "execution_count": 17,
   "metadata": {},
   "outputs": [],
   "source": [
    "def spectrum(N=2, spin=1, lamb=[0, 0.1], dL=0.001, periodic='No'):\n",
    "    '''\n",
    "    It gives the plotting of E(lambda)\n",
    "    '''\n",
    "    L = np.linspace(lamb[0], lamb[1], num=round((lamb[1]-lamb[0])/dL))\n",
    "    \n",
    "    Model = Chain(N=N, spin=spin, lamb=0, periodic=periodic)\n",
    "    (P, D) = np.linalg.eigh(Model.H)\n",
    "    P_save = np.sort(P)\n",
    "    \n",
    "    for lamb in L[1:]:\n",
    "        Model = Chain(N=N, spin=spin, lamb=lamb, periodic=periodic)\n",
    "        (P, D) = np.linalg.eigh(Model.H)\n",
    "        P_save = np.vstack([P_save, np.sort(P)])\n",
    "    \n",
    "    P_save = np.transpose(P_save)\n",
    "    return P_save"
   ]
  },
  {
   "cell_type": "code",
   "execution_count": 18,
   "metadata": {},
   "outputs": [
    {
     "data": {
      "image/png": "[encoded data removed]",
      "text/plain": [
       "<Figure size 864x576 with 1 Axes>"
      ]
     },
     "metadata": {
      "needs_background": "light"
     },
     "output_type": "display_data"
    }
   ],
   "source": [
    "energy_spectrum = spectrum(dL=0.0001)\n",
    "L = np.linspace(0, 0.1, num=1000)\n",
    "plt.figure(figsize=(12,8))\n",
    "i = 0\n",
    "for D in energy_spectrum:\n",
    "    plt.plot(L, D, label='$E_{}$'.format(i))\n",
    "    i+=1\n",
    "plt.legend(loc='best')\n",
    "plt.xlabel('$\\lambda$')\n",
    "plt.ylabel('$\\epsilon$')\n",
    "plt.ylim(-2.5, 0.2, 0.01)\n",
    "plt.savefig('ExactSolution.png')\n",
    "plt.show()"
   ]
  },
  {
   "cell_type": "markdown",
   "metadata": {},
   "source": [
    "#### Description\n",
    "This is the exact solution of energy spectrum of two-spins coupling system. \n",
    "It look like there are four groups of two-degeneracy. However, we can actually distinguish slightly difference between them. My guess now is if in the view of second-order approximation, they are accurately degenerate. "
   ]
  },
  {
   "cell_type": "markdown",
   "metadata": {},
   "source": [
    "### Only the degenerate cases"
   ]
  },
  {
   "cell_type": "code",
   "execution_count": 19,
   "metadata": {},
   "outputs": [],
   "source": [
    "def spectrum2(N=2, spin=1, lamb=[0, 0.1], dL=0.001, periodic='No'):\n",
    "    '''\n",
    "    It gives the plotting of E(lambda)\n",
    "    '''\n",
    "    L = np.linspace(lamb[0], lamb[1], num=round((lamb[1]-lamb[0])/dL))\n",
    "    \n",
    "    Model = Chain(N=N, spin=spin, lamb=0, periodic=periodic)\n",
    "    (P, D) = np.linalg.eigh(Model.H)\n",
    "    P_save = np.sort(P)[0:7]\n",
    "    \n",
    "    for lamb in L[1:]:\n",
    "        Model = Chain(N=N, spin=spin, lamb=lamb, periodic=periodic)\n",
    "        (P, D) = np.linalg.eigh(Model.H)\n",
    "        P_save = np.vstack([P_save, np.sort(P)[0:7]])\n",
    "    \n",
    "    P_save = np.transpose(P_save)\n",
    "    return P_save"
   ]
  },
  {
   "cell_type": "code",
   "execution_count": 20,
   "metadata": {},
   "outputs": [
    {
     "data": {
      "image/png": "[encoded data removed]",
      "text/plain": [
       "<Figure size 720x360 with 1 Axes>"
      ]
     },
     "metadata": {
      "needs_background": "light"
     },
     "output_type": "display_data"
    }
   ],
   "source": [
    "energy_spectrum2 = spectrum2(dL=0.0001)\n",
    "L = np.linspace(0, 0.1, num=1000)\n",
    "\n",
    "plt.figure(figsize=(10,5))\n",
    "i = 0\n",
    "for D in energy_spectrum2:\n",
    "    plt.plot(L, D, label='$E_{}$'.format(i))\n",
    "    i+=1\n",
    "#plt.legend(loc='best')\n",
    "plt.xlabel('$\\lambda$')\n",
    "plt.ylabel('$\\epsilon$')\n",
    "plt.ylim(-1.1, -0.9)\n",
    "plt.savefig('Middle part.png')\n",
    "plt.show()"
   ]
  },
  {
   "cell_type": "code",
   "execution_count": 21,
   "metadata": {},
   "outputs": [
    {
     "data": {
      "image/png": "[encoded data removed]",
      "text/plain": [
       "<Figure size 720x360 with 1 Axes>"
      ]
     },
     "metadata": {
      "needs_background": "light"
     },
     "output_type": "display_data"
    }
   ],
   "source": [
    "plt.figure(figsize=(10,5))\n",
    "for D in energy_spectrum2:\n",
    "    plt.plot(L, D)\n",
    "#plt.legend(loc='best')\n",
    "plt.xlabel('$\\lambda$')\n",
    "plt.ylabel('$\\epsilon$')\n",
    "plt.ylim(-2.15, -1.85)\n",
    "plt.savefig('GroundState.png')\n",
    "plt.show()"
   ]
  },
  {
   "cell_type": "code",
   "execution_count": 22,
   "metadata": {},
   "outputs": [
    {
     "data": {
      "image/png": "[encoded data removed]",
      "text/plain": [
       "<Figure size 432x288 with 1 Axes>"
      ]
     },
     "metadata": {
      "needs_background": "light"
     },
     "output_type": "display_data"
    }
   ],
   "source": [
    "plt.plot(L, energy_spectrum2[1]-energy_spectrum2[0])\n",
    "plt.xlabel('$\\lambda$')\n",
    "plt.ylabel('$\\Delta\\epsilon$')\n",
    "plt.savefig('E1minusE0.png')"
   ]
  },
  {
   "cell_type": "code",
   "execution_count": 31,
   "metadata": {},
   "outputs": [
    {
     "data": {
      "text/plain": [
       "array([ 5.38676605e-01, -2.39187174e-01, -5.00601033e-01,  1.00001536e+00,\n",
       "       -1.55314196e-07,  3.69728431e-10])"
      ]
     },
     "execution_count": 31,
     "metadata": {},
     "output_type": "execute_result"
    }
   ],
   "source": [
    "p = np.polyfit(L, energy_spectrum2[1]-energy_spectrum2[0], 5)\n",
    "p"
   ]
  },
  {
   "cell_type": "markdown",
   "metadata": {},
   "source": [
    "It is interesting that the ground state is not degenerate again! The ground energy at point '$\\lambda=0.1$' is about -2.1095. The correction -0.1 should be from first order correction. By $\\lambda^{2}=0.01$, it is likely that the '-0.0095' bias comes from higher order correction."
   ]
  },
  {
   "cell_type": "markdown",
   "metadata": {},
   "source": [
    "# Application of the perturbatioin theory"
   ]
  },
  {
   "cell_type": "markdown",
   "metadata": {},
   "source": [
    "Note that the perturbation theory, the Hamiltonian was divided to two parts(unperturbed and perturbed):\n",
    "$$ H = H_{0} + \\lambda V$$\n",
    "We will study this in the eigenbasis of $H_{0}$ with:\n",
    "$$ H_{0}\\left | \\phi_{n}^{(0)} \\right \\rangle = E_{n}^{(0)} \\left | \\phi_{n}^{(0)} \\right \\rangle$$\n",
    "The matrix representation of this set of vectors and the corresponding eigenvalues have been obtained in the previous Model_0. Now we list them in an ascending eigenvalues order. "
   ]
  },
  {
   "cell_type": "code",
   "execution_count": 15,
   "metadata": {},
   "outputs": [],
   "source": [
    "Phi0 = np.array([[0,0,1,0,0,0,0,0,0],  # ground state\n",
    "                 [0,0,0,0,0,0,1,0,0],  # First excited state\n",
    "                 [0,0,0,0,0,0,0,0,1],\n",
    "                 [1,0,0,0,0,0,0,0,0],\n",
    "                 [0,0,0,1,0,0,0,0,0],\n",
    "                 [0,0,0,0,0,1,0,0,0],\n",
    "                 [0,0,0,0,0,0,0,1,0],\n",
    "                 [0,1,0,0,0,0,0,0,0],\n",
    "                 [0,0,0,0,1,0,0,0,0]])"
   ]
  },
  {
   "cell_type": "markdown",
   "metadata": {},
   "source": [
    "#### Note:\n",
    "For simplicity, I would like to apply non-degenerate perturbation theory for most lines in the spectrum. However, degenerate perturbation theory is necessarry for the lowest two energy levels."
   ]
  },
  {
   "cell_type": "code",
   "execution_count": 16,
   "metadata": {},
   "outputs": [
    {
     "data": {
      "text/plain": [
       "'\\n#The wavevectors used before\\n#Phi0_1 = np.array([[0,0,0,0,0,0,1,0,0],\\n                   [0,0,0,0,0,0,0,0,1],\\n                   [0,0,0,0,0,1,0,0,0],\\n                   [0,0,0,0,0,0,0,1,0],\\n                   [0,0,0,0,1,0,0,0,0]])\\n#the degenerate\\n'"
      ]
     },
     "execution_count": 16,
     "metadata": {},
     "output_type": "execute_result"
    }
   ],
   "source": [
    "Phi0_1 = np.array([[0,0,0,0,0,0,1,0,0],\n",
    "                  [0,0,0,0,0,0,0,0,1],\n",
    "                  [0,0,0,0,0,1/np.sqrt(2),0,-1/np.sqrt(2),0], #renormalization, it works! lucky?\n",
    "                  [0,0,0,0,0,1/np.sqrt(2),0,1/np.sqrt(2),0],\n",
    "                  [0,0,0,0,1,0,0,0,0]])\n",
    "'''\n",
    "#The wavevectors used before\n",
    "#Phi0_1 = np.array([[0,0,0,0,0,0,1,0,0],\n",
    "                   [0,0,0,0,0,0,0,0,1],\n",
    "                   [0,0,0,0,0,1,0,0,0],\n",
    "                   [0,0,0,0,0,0,0,1,0],\n",
    "                   [0,0,0,0,1,0,0,0,0]])\n",
    "#the degenerate\n",
    "'''\n"
   ]
  },
  {
   "cell_type": "markdown",
   "metadata": {},
   "source": [
    "In the case of our Hamiltonian:  \n",
    "$$ H=-(S_{1}^{z})^{2}-(S_{2}^{z})^{2} +\\lambda(S_{1}^{z}S_{2}^{z}+S_{1}^{x}S_{2}^{x}+S_{1}^{y}S_{2}^{y})$$\n",
    "\n",
    "Compare them to each other, then we write: $H_{0} =-(S_{1}^{z})^{2}-(S_{2}^{z})^{2} $ and\n",
    "$V = S_{1}^{z}S_{2}^{z}+S_{1}^{x}S_{2}^{x}+S_{1}^{y}S_{2}^{y}$"
   ]
  },
  {
   "cell_type": "markdown",
   "metadata": {},
   "source": [
    "### Recall that for non-degenerate case:"
   ]
  },
  {
   "cell_type": "markdown",
   "metadata": {},
   "source": [
    "\n",
    "$$ E_{n} = E_{n}^{(0)} + \\lambda \\langle n^{(0)} |V| n^{(0)} \\rangle + \\lambda^{2} \\sum_{k\\ne n} \\dfrac{|\\langle k^{(0)} |V| n^{(0)}\\rangle|^{2}}{E^{(0)}_{n} - E^{(0)}_{k}} + \\lambda^{3} E_{n}^{(3)} + O(\\lambda^{4}) $$\n",
    "\n",
    "$$ E_{n}^{(3)} = \\sum_{k\\ne n} \\sum_{m \\ne n} \\dfrac{\\langle n^{(0)}|V|m^{(0)} \\rangle \\langle m^{(0)}|V|k^{(0)} \\rangle \\langle k^{(0)} |V| n^{(0)} \\rangle}{(E_{n}^{(0)}-E_{m}^{(0)})(E_{n}^{(0)}-E_{n}^{(k)})} - \\langle n^{(0)}|V|n^{(0)} \\rangle \\sum_{m \\ne n} \\dfrac{|\\langle n^{(0)} |V|m^{(0)} \\rangle|^{2}}{(E_{n}^{(0)}-E_{m}^{(0)})^{2}} $$"
   ]
  },
  {
   "cell_type": "code",
   "execution_count": 17,
   "metadata": {},
   "outputs": [],
   "source": [
    "V = np.real(\\\n",
    "    np.kron(Sz, np.identity(3)).dot( np.kron(np.identity(3), Sz) ) + \\\n",
    "    np.kron(Sx, np.identity(3)).dot( np.kron(np.identity(3), Sx) ) + \\\n",
    "    np.kron(Sy, np.identity(3)).dot( np.kron(np.identity(3), Sy) ))"
   ]
  },
  {
   "cell_type": "markdown",
   "metadata": {},
   "source": [
    "#### First orders energy correction"
   ]
  },
  {
   "cell_type": "code",
   "execution_count": 18,
   "metadata": {},
   "outputs": [
    {
     "data": {
      "image/png": "[encoded data removed]",
      "text/plain": [
       "<Figure size 864x576 with 1 Axes>"
      ]
     },
     "metadata": {
      "needs_background": "light"
     },
     "output_type": "display_data"
    }
   ],
   "source": [
    "E0 = np.array([-2, -2, -1, -1, 0])\n",
    "E1 = []\n",
    "for phi in Phi0_1:\n",
    "    E1.append(phi.dot(V).dot(phi.transpose()))\n",
    "E1 = np.array(E1)\n",
    "\n",
    "E = E0.copy()\n",
    "L1 = np.linspace(0.0001, 0.1, num=999)\n",
    "for lamb in L1:\n",
    "    E = np.vstack([E, E0+lamb*E1])\n",
    "E = E.transpose()\n",
    "\n",
    "plt.figure(figsize=(12,8))\n",
    "i = 1\n",
    "for e in E:\n",
    "    plt.plot(L, e, label='$E_{}$'.format(i))\n",
    "    i+=2\n",
    "plt.legend(loc='best')\n",
    "plt.xlabel('$\\lambda$')\n",
    "plt.ylabel('$\\epsilon$')\n",
    "plt.savefig('FirstOrderCorrection')\n",
    "plt.show()"
   ]
  },
  {
   "cell_type": "code",
   "execution_count": 19,
   "metadata": {},
   "outputs": [
    {
     "data": {
      "text/plain": [
       "-2.1"
      ]
     },
     "execution_count": 19,
     "metadata": {},
     "output_type": "execute_result"
    }
   ],
   "source": [
    "E[0][-1]"
   ]
  },
  {
   "cell_type": "code",
   "execution_count": 20,
   "metadata": {},
   "outputs": [
    {
     "data": {
      "text/plain": [
       "array([[ 1.,  0.,  0.,  0.,  0.,  0.,  0.,  0.,  0.],\n",
       "       [ 0.,  0.,  0.,  1.,  0.,  0.,  0.,  0.,  0.],\n",
       "       [ 0.,  0., -1.,  0.,  1.,  0.,  0.,  0.,  0.],\n",
       "       [ 0.,  1.,  0.,  0.,  0.,  0.,  0.,  0.,  0.],\n",
       "       [ 0.,  0.,  1.,  0.,  0.,  0.,  1.,  0.,  0.],\n",
       "       [ 0.,  0.,  0.,  0.,  0.,  0.,  0.,  1.,  0.],\n",
       "       [ 0.,  0.,  0.,  0.,  1.,  0., -1.,  0.,  0.],\n",
       "       [ 0.,  0.,  0.,  0.,  0.,  1.,  0.,  0.,  0.],\n",
       "       [ 0.,  0.,  0.,  0.,  0.,  0.,  0.,  0.,  1.]])"
      ]
     },
     "execution_count": 20,
     "metadata": {},
     "output_type": "execute_result"
    }
   ],
   "source": [
    "V"
   ]
  },
  {
   "cell_type": "markdown",
   "metadata": {},
   "source": [
    "### The result means\n",
    "The first-order perturbation theory has given the result same as the exact solution, which means the first-order correction is accurate enough to remove the degeneracy except for the ground states."
   ]
  },
  {
   "cell_type": "markdown",
   "metadata": {},
   "source": [
    "### Second order(uncomplete)"
   ]
  },
  {
   "cell_type": "code",
   "execution_count": 28,
   "metadata": {},
   "outputs": [
    {
     "ename": "AttributeError",
     "evalue": "'numpy.float64' object has no attribute 'dot'",
     "output_type": "error",
     "traceback": [
      "\u001b[0;31m---------------------------------------------------------------------------\u001b[0m",
      "\u001b[0;31mAttributeError\u001b[0m                            Traceback (most recent call last)",
      "\u001b[0;32m<ipython-input-28-9fafc184baa7>\u001b[0m in \u001b[0;36m<module>\u001b[0;34m\u001b[0m\n\u001b[1;32m      5\u001b[0m     \u001b[0;32mfor\u001b[0m \u001b[0mj\u001b[0m \u001b[0;32min\u001b[0m \u001b[0mrange\u001b[0m\u001b[0;34m(\u001b[0m\u001b[0;36m0\u001b[0m\u001b[0;34m,\u001b[0m \u001b[0mlen\u001b[0m\u001b[0;34m(\u001b[0m\u001b[0mPhi0_1\u001b[0m\u001b[0;34m)\u001b[0m\u001b[0;34m)\u001b[0m\u001b[0;34m:\u001b[0m\u001b[0;34m\u001b[0m\u001b[0;34m\u001b[0m\u001b[0m\n\u001b[1;32m      6\u001b[0m         \u001b[0;32mif\u001b[0m \u001b[0mj\u001b[0m \u001b[0;34m!=\u001b[0m \u001b[0mi\u001b[0m\u001b[0;34m:\u001b[0m\u001b[0;34m\u001b[0m\u001b[0;34m\u001b[0m\u001b[0m\n\u001b[0;32m----> 7\u001b[0;31m             \u001b[0me\u001b[0m \u001b[0;34m+=\u001b[0m \u001b[0mPhi0real\u001b[0m\u001b[0;34m[\u001b[0m\u001b[0mj\u001b[0m\u001b[0;34m]\u001b[0m\u001b[0;34m.\u001b[0m\u001b[0mdot\u001b[0m\u001b[0;34m(\u001b[0m\u001b[0mV\u001b[0m\u001b[0;34m)\u001b[0m\u001b[0;34m.\u001b[0m\u001b[0mdot\u001b[0m\u001b[0;34m(\u001b[0m\u001b[0mPhi0real\u001b[0m\u001b[0;34m[\u001b[0m\u001b[0mi\u001b[0m\u001b[0;34m]\u001b[0m\u001b[0;34m.\u001b[0m\u001b[0mtranspose\u001b[0m\u001b[0;34m(\u001b[0m\u001b[0;34m)\u001b[0m\u001b[0;34m)\u001b[0m\u001b[0;34m.\u001b[0m\u001b[0mdot\u001b[0m\u001b[0;34m(\u001b[0m\u001b[0mPhi0real\u001b[0m\u001b[0;34m[\u001b[0m\u001b[0mi\u001b[0m\u001b[0;34m]\u001b[0m\u001b[0;34m)\u001b[0m\u001b[0;34m.\u001b[0m\u001b[0mdot\u001b[0m\u001b[0;34m(\u001b[0m\u001b[0mV\u001b[0m\u001b[0;34m)\u001b[0m\u001b[0;34m.\u001b[0m\u001b[0mdot\u001b[0m\u001b[0;34m(\u001b[0m\u001b[0mPhi0real\u001b[0m\u001b[0;34m[\u001b[0m\u001b[0mj\u001b[0m\u001b[0;34m]\u001b[0m\u001b[0;34m)\u001b[0m\u001b[0;34m/\u001b[0m\u001b[0;34m(\u001b[0m\u001b[0mE0\u001b[0m\u001b[0;34m[\u001b[0m\u001b[0mi\u001b[0m\u001b[0;34m]\u001b[0m\u001b[0;34m-\u001b[0m\u001b[0mE0\u001b[0m\u001b[0;34m[\u001b[0m\u001b[0mj\u001b[0m\u001b[0;34m]\u001b[0m\u001b[0;34m)\u001b[0m\u001b[0;34m\u001b[0m\u001b[0;34m\u001b[0m\u001b[0m\n\u001b[0m\u001b[1;32m      8\u001b[0m     \u001b[0mE2\u001b[0m\u001b[0;34m.\u001b[0m\u001b[0mappend\u001b[0m\u001b[0;34m(\u001b[0m\u001b[0me\u001b[0m\u001b[0;34m)\u001b[0m\u001b[0;34m\u001b[0m\u001b[0;34m\u001b[0m\u001b[0m\n\u001b[1;32m      9\u001b[0m \u001b[0mE2\u001b[0m\u001b[0;34m\u001b[0m\u001b[0;34m\u001b[0m\u001b[0m\n",
      "\u001b[0;31mAttributeError\u001b[0m: 'numpy.float64' object has no attribute 'dot'"
     ]
    }
   ],
   "source": [
    "E2 = []\n",
    "Phi0real = np.real(Phi0_1)\n",
    "for i in range(0, len(E0)):\n",
    "    e = 0\n",
    "    for j in range(0, len(Phi0_1)):\n",
    "        if j != i:\n",
    "            e += Phi0real[j].dot(V).dot(Phi0real[i].transpose()).dot(Phi0real[i]).dot(V).dot(Phi0real[j])/(E0[i]-E0[j])\n",
    "    E2.append(e)\n",
    "E2"
   ]
  },
  {
   "cell_type": "markdown",
   "metadata": {},
   "source": [
    "## Non-degenerate cases\n",
    "This part studies how the degeneracy of the lowest two levels is removed. Non-degenerate methods has been applied in the middle levels in previous part by renormalization of eigenvectors in a subspace. "
   ]
  },
  {
   "cell_type": "code",
   "execution_count": 21,
   "metadata": {},
   "outputs": [],
   "source": [
    "Phi0_g = np.array([[0,0,1,0,0,0,0,0,0],\n",
    "                   [0,0,0,0,0,0,1,0,0]])\n",
    "# try to renormalize it:\n",
    "Phi0_gg = np.array([[0,0,1/np.sqrt(2),0,0,0,1/np.sqrt(2),0,0],\n",
    "                    [0,0,1/np.sqrt(2),0,0,0,-1/np.sqrt(2),0,0]])"
   ]
  },
  {
   "cell_type": "code",
   "execution_count": 23,
   "metadata": {},
   "outputs": [
    {
     "data": {
      "image/png": "[encoded data removed]",
      "text/plain": [
       "<Figure size 720x360 with 1 Axes>"
      ]
     },
     "metadata": {
      "needs_background": "light"
     },
     "output_type": "display_data"
    }
   ],
   "source": [
    "Eg0 = np.array([-2, -2])\n",
    "Eg1 = []\n",
    "for phi in Phi0_gg:\n",
    "    Eg1.append(phi.dot(V).dot(phi.transpose()))\n",
    "Eg1 = np.array(Eg1)\n",
    "\n",
    "Eg = Eg0.copy()\n",
    "#L1 = np.linspace(0.0001, 0.1, num=999)\n",
    "for lamb in L1:\n",
    "    Eg = np.vstack([Eg, Eg0+lamb*Eg1])\n",
    "Eg = Eg.transpose()\n",
    "\n",
    "plt.figure(figsize=(10,5))\n",
    "for e in Eg:\n",
    "    plt.plot(L, e)\n",
    "#plt.legend(loc='best')\n",
    "plt.xlabel('$\\lambda$')\n",
    "plt.ylabel('$\\epsilon$')\n",
    "plt.savefig('FirstOrderGroundState')\n",
    "plt.show()"
   ]
  },
  {
   "cell_type": "code",
   "execution_count": 31,
   "metadata": {},
   "outputs": [],
   "source": [
    "#Eg[0]==Eg[1]"
   ]
  },
  {
   "cell_type": "markdown",
   "metadata": {},
   "source": [
    "These results are all 'True', which means first order perturbation is not enough to remove the degeneracy.\n",
    "#### Second order"
   ]
  },
  {
   "cell_type": "markdown",
   "metadata": {},
   "source": [
    "Recall that for degenerate case, we need the eigenvectors in the orthogonal subspace P:\n",
    "$$ E_{nk} = E_{n}^{(0)} + \\lambda V_{nk,nk} + \\lambda^{2} \\sum_{p} \\dfrac{V_{nk,p}V_{p,nk}}{E_{n}^{(0)}-E_{p}^{(0)}} + O(\\lambda^{3})$$\n",
    "\n",
    "Eigenvectors in subspace p:"
   ]
  },
  {
   "cell_type": "code",
   "execution_count": 26,
   "metadata": {},
   "outputs": [],
   "source": [
    "Phip = np.array([[0,0,0,1,0,0,0,0,0],\n",
    "                 [0,0,0,0,0,1,0,0,0],\n",
    "                 [0,0,0,0,0,0,0,1,0],\n",
    "                 [0,1,0,0,0,0,0,0,0],\n",
    "                 [0,0,0,0,1,0,0,0,0]])\n",
    "Ep = [-1,-1,-1,-1,0]"
   ]
  },
  {
   "cell_type": "code",
   "execution_count": 27,
   "metadata": {},
   "outputs": [],
   "source": [
    "Eg2 = []\n",
    "for k in Phi0_gg:\n",
    "    e = 0\n",
    "    for p in range(0, len(Phip)):\n",
    "        e += k.transpose().dot(V).dot(Phip[p]) * Phip[p].transpose().dot(V).dot(k)   \n",
    "    Eg2.append(e/(Eg0[0]-Ep[p]) )\n",
    "\n",
    "Eg2 = np.array(Eg2)"
   ]
  },
  {
   "cell_type": "code",
   "execution_count": 28,
   "metadata": {
    "jupyter": {
     "source_hidden": true
    }
   },
   "outputs": [],
   "source": [
    "Eg2_ = Eg2.copy()\n",
    "#L1 = np.linspace(0.0001, 0.1, num=999)\n",
    "for lamb in L1:\n",
    "    Eg2 = np.vstack([Eg2, lamb**2 *Eg2_])\n",
    "Eg2 = Eg2.transpose()\n",
    "E_corrected = Eg + Eg2"
   ]
  },
  {
   "cell_type": "code",
   "execution_count": 29,
   "metadata": {},
   "outputs": [
    {
     "data": {
      "image/png": "[encoded data removed]",
      "text/plain": [
       "<Figure size 720x360 with 1 Axes>"
      ]
     },
     "metadata": {
      "needs_background": "light"
     },
     "output_type": "display_data"
    }
   ],
   "source": [
    "plt.figure(figsize=(10,5))\n",
    "for e in E_corrected:\n",
    "    plt.plot(L[1:], e[1:])\n",
    "#plt.legend(loc='best')\n",
    "plt.xlabel('$\\lambda$')\n",
    "plt.ylabel('$\\epsilon$')\n",
    "plt.savefig('SecondOrderGroundState')\n",
    "plt.show()"
   ]
  },
  {
   "cell_type": "code",
   "execution_count": 43,
   "metadata": {},
   "outputs": [
    {
     "data": {
      "text/plain": [
       "-2.11"
      ]
     },
     "execution_count": 43,
     "metadata": {},
     "output_type": "execute_result"
    }
   ],
   "source": [
    "E_corrected[0][-1]"
   ]
  },
  {
   "cell_type": "markdown",
   "metadata": {},
   "source": [
    "#### This result means:\n",
    "The desired value is -2.109481.\n",
    "The second order correction is only accurate to decimals=0.01, it needs higer order correction. I expect that the 3rd order correction would give value '+0.5'. "
   ]
  },
  {
   "cell_type": "code",
   "execution_count": null,
   "metadata": {},
   "outputs": [],
   "source": []
  }
 ],
 "metadata": {
  "kernelspec": {
   "display_name": "Python 3",
   "language": "python",
   "name": "python3"
  },
  "language_info": {
   "codemirror_mode": {
    "name": "ipython",
    "version": 3
   },
   "file_extension": ".py",
   "mimetype": "text/x-python",
   "name": "python",
   "nbconvert_exporter": "python",
   "pygments_lexer": "ipython3",
   "version": "3.6.9"
  }
 },
 "nbformat": 4,
 "nbformat_minor": 4
}
